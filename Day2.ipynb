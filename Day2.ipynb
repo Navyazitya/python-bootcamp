{
  "nbformat": 4,
  "nbformat_minor": 0,
  "metadata": {
    "colab": {
      "provenance": []
    },
    "kernelspec": {
      "name": "python3",
      "display_name": "Python 3"
    },
    "language_info": {
      "name": "python"
    }
  },
  "cells": [
    {
      "cell_type": "code",
      "execution_count": 3,
      "metadata": {
        "id": "ZzvwwvzUu7da"
      },
      "outputs": [],
      "source": [
        "#set--- to avoid duplicates, unordered\n",
        "s1={1,2,3}"
      ]
    },
    {
      "cell_type": "code",
      "source": [
        "print(s1)"
      ],
      "metadata": {
        "colab": {
          "base_uri": "https://localhost:8080/"
        },
        "id": "PpSIwxxtvEV-",
        "outputId": "f53c5bbc-3bcf-4e45-cc0a-7ed5f738d906"
      },
      "execution_count": 5,
      "outputs": [
        {
          "output_type": "stream",
          "name": "stdout",
          "text": [
            "{1, 2, 3}\n"
          ]
        }
      ]
    },
    {
      "cell_type": "code",
      "source": [
        "s2={1,2,2,3}\n",
        "print(s2)"
      ],
      "metadata": {
        "colab": {
          "base_uri": "https://localhost:8080/"
        },
        "id": "bndcXcYFvPrZ",
        "outputId": "f560f37e-7983-4619-8d64-794b8c9eafbf"
      },
      "execution_count": 6,
      "outputs": [
        {
          "output_type": "stream",
          "name": "stdout",
          "text": [
            "{1, 2, 3}\n"
          ]
        }
      ]
    },
    {
      "cell_type": "code",
      "source": [
        "print(s2[2:3])"
      ],
      "metadata": {
        "colab": {
          "base_uri": "https://localhost:8080/",
          "height": 141
        },
        "id": "Asl5-AhJvdbx",
        "outputId": "e050a834-1164-4ac5-d6f1-a177ec99837c"
      },
      "execution_count": 8,
      "outputs": [
        {
          "output_type": "error",
          "ename": "TypeError",
          "evalue": "'set' object is not subscriptable",
          "traceback": [
            "\u001b[0;31m---------------------------------------------------------------------------\u001b[0m",
            "\u001b[0;31mTypeError\u001b[0m                                 Traceback (most recent call last)",
            "\u001b[0;32m<ipython-input-8-ac9fb19cc5db>\u001b[0m in \u001b[0;36m<cell line: 1>\u001b[0;34m()\u001b[0m\n\u001b[0;32m----> 1\u001b[0;31m \u001b[0mprint\u001b[0m\u001b[0;34m(\u001b[0m\u001b[0ms2\u001b[0m\u001b[0;34m[\u001b[0m\u001b[0;36m2\u001b[0m\u001b[0;34m:\u001b[0m\u001b[0;36m3\u001b[0m\u001b[0;34m]\u001b[0m\u001b[0;34m)\u001b[0m\u001b[0;34m\u001b[0m\u001b[0;34m\u001b[0m\u001b[0m\n\u001b[0m",
            "\u001b[0;31mTypeError\u001b[0m: 'set' object is not subscriptable"
          ]
        }
      ]
    },
    {
      "cell_type": "code",
      "source": [
        "#indexing is not possible as it is unorder"
      ],
      "metadata": {
        "id": "SDoUWtrDvkpq"
      },
      "execution_count": 9,
      "outputs": []
    },
    {
      "cell_type": "code",
      "source": [
        "s2.add(24) #in set we use add not append"
      ],
      "metadata": {
        "id": "qnFIFFcUvr6Y"
      },
      "execution_count": 12,
      "outputs": []
    },
    {
      "cell_type": "code",
      "source": [
        "print(s2)"
      ],
      "metadata": {
        "colab": {
          "base_uri": "https://localhost:8080/"
        },
        "id": "-JnUIwKAvvRb",
        "outputId": "0c53fc96-efbe-43e4-8387-faf55c958f8e"
      },
      "execution_count": 11,
      "outputs": [
        {
          "output_type": "stream",
          "name": "stdout",
          "text": [
            "{24, 1, 2, 3}\n"
          ]
        }
      ]
    },
    {
      "cell_type": "code",
      "source": [
        "s2.remove(3)\n",
        "print(s2)"
      ],
      "metadata": {
        "colab": {
          "base_uri": "https://localhost:8080/"
        },
        "id": "kBcirIPdvwUn",
        "outputId": "6584e3b5-013e-4f7d-a8d8-a6a24100b9eb"
      },
      "execution_count": 16,
      "outputs": [
        {
          "output_type": "stream",
          "name": "stdout",
          "text": [
            "{1, 2}\n"
          ]
        }
      ]
    },
    {
      "cell_type": "code",
      "source": [
        "s2.remove(5)   #remove shows error if the element we wnat to remove an eliment which is not present\n",
        "print(s2)"
      ],
      "metadata": {
        "colab": {
          "base_uri": "https://localhost:8080/",
          "height": 158
        },
        "id": "LVF4SMV7v9Mf",
        "outputId": "82b4e714-933d-440c-fe36-62f0d7a1a7fd"
      },
      "execution_count": 20,
      "outputs": [
        {
          "output_type": "error",
          "ename": "KeyError",
          "evalue": "5",
          "traceback": [
            "\u001b[0;31m---------------------------------------------------------------------------\u001b[0m",
            "\u001b[0;31mKeyError\u001b[0m                                  Traceback (most recent call last)",
            "\u001b[0;32m<ipython-input-20-d869bc21b7de>\u001b[0m in \u001b[0;36m<cell line: 1>\u001b[0;34m()\u001b[0m\n\u001b[0;32m----> 1\u001b[0;31m \u001b[0ms2\u001b[0m\u001b[0;34m.\u001b[0m\u001b[0mremove\u001b[0m\u001b[0;34m(\u001b[0m\u001b[0;36m5\u001b[0m\u001b[0;34m)\u001b[0m   \u001b[0;31m#remove shows error if the element we wnat to remove an eliment which is not present\u001b[0m\u001b[0;34m\u001b[0m\u001b[0;34m\u001b[0m\u001b[0m\n\u001b[0m\u001b[1;32m      2\u001b[0m \u001b[0mprint\u001b[0m\u001b[0;34m(\u001b[0m\u001b[0ms2\u001b[0m\u001b[0;34m)\u001b[0m\u001b[0;34m\u001b[0m\u001b[0;34m\u001b[0m\u001b[0m\n",
            "\u001b[0;31mKeyError\u001b[0m: 5"
          ]
        }
      ]
    },
    {
      "cell_type": "code",
      "source": [
        "s2.discard(5)   #it doesnot show any error"
      ],
      "metadata": {
        "id": "76N-CFhewR6j"
      },
      "execution_count": 21,
      "outputs": []
    },
    {
      "cell_type": "code",
      "source": [
        "print(s2)"
      ],
      "metadata": {
        "colab": {
          "base_uri": "https://localhost:8080/"
        },
        "id": "5OKQiZjRwUY7",
        "outputId": "0c0f9e01-9e5a-44f4-d6ae-31a0ab317cbb"
      },
      "execution_count": 19,
      "outputs": [
        {
          "output_type": "stream",
          "name": "stdout",
          "text": [
            "{1, 2}\n"
          ]
        }
      ]
    },
    {
      "cell_type": "code",
      "source": [
        "s2.pop()\n",
        "print(s2)"
      ],
      "metadata": {
        "colab": {
          "base_uri": "https://localhost:8080/"
        },
        "id": "x4WD8WnwwV2R",
        "outputId": "2a85e1f6-dd99-42f2-a567-501ae7af4df6"
      },
      "execution_count": 23,
      "outputs": [
        {
          "output_type": "stream",
          "name": "stdout",
          "text": [
            "set()\n"
          ]
        }
      ]
    },
    {
      "cell_type": "code",
      "source": [
        "s3={1,2,3,4,5}\n",
        "s3.pop()\n"
      ],
      "metadata": {
        "colab": {
          "base_uri": "https://localhost:8080/"
        },
        "id": "nzqcYUYkwn4D",
        "outputId": "b9be2c32-6ff6-487d-ea6a-e261ea4532ba"
      },
      "execution_count": 26,
      "outputs": [
        {
          "output_type": "execute_result",
          "data": {
            "text/plain": [
              "1"
            ]
          },
          "metadata": {},
          "execution_count": 26
        }
      ]
    },
    {
      "cell_type": "code",
      "source": [
        "s3.pop()  #randomly picks Pop removes any random element from the set and returns the removed element."
      ],
      "metadata": {
        "colab": {
          "base_uri": "https://localhost:8080/"
        },
        "id": "UbQbKHvNwyaG",
        "outputId": "9a501bf9-69ac-4356-d332-f6379cabb2b4"
      },
      "execution_count": 45,
      "outputs": [
        {
          "output_type": "execute_result",
          "data": {
            "text/plain": [
              "3"
            ]
          },
          "metadata": {},
          "execution_count": 45
        }
      ]
    },
    {
      "cell_type": "code",
      "source": [
        "#dictionariess\n",
        "dict1={'name':'john','age':25}"
      ],
      "metadata": {
        "id": "6swCRuEtw8Z6"
      },
      "execution_count": 28,
      "outputs": []
    },
    {
      "cell_type": "code",
      "source": [
        "print(dict1['age'])"
      ],
      "metadata": {
        "colab": {
          "base_uri": "https://localhost:8080/"
        },
        "id": "ZqYvuL4kxGzA",
        "outputId": "8a214de8-e731-43f4-a47d-b1f12ee03b4d"
      },
      "execution_count": 29,
      "outputs": [
        {
          "output_type": "stream",
          "name": "stdout",
          "text": [
            "25\n"
          ]
        }
      ]
    },
    {
      "cell_type": "code",
      "source": [
        "dict1['name']='christiano'#can be modified"
      ],
      "metadata": {
        "id": "g-Eie2SRxNYj"
      },
      "execution_count": 34,
      "outputs": []
    },
    {
      "cell_type": "code",
      "source": [
        "print(dict1['name'])"
      ],
      "metadata": {
        "colab": {
          "base_uri": "https://localhost:8080/"
        },
        "id": "dchQ5C_7xUrb",
        "outputId": "a10f7fbd-6fa7-445a-9fc3-b3a78a8c0cfe"
      },
      "execution_count": 33,
      "outputs": [
        {
          "output_type": "stream",
          "name": "stdout",
          "text": [
            "christiano\n"
          ]
        }
      ]
    },
    {
      "cell_type": "code",
      "source": [
        "#relatinal(Comaparision) operators\n",
        "a=1\n",
        "b=1\n",
        "print(a==b)\n"
      ],
      "metadata": {
        "colab": {
          "base_uri": "https://localhost:8080/"
        },
        "id": "Q7GG4C7JxeZs",
        "outputId": "974596d7-b6df-4fe3-ff0b-66c7a36d5cf5"
      },
      "execution_count": 36,
      "outputs": [
        {
          "output_type": "stream",
          "name": "stdout",
          "text": [
            "True\n"
          ]
        }
      ]
    },
    {
      "cell_type": "code",
      "source": [
        "l1=[1,2,3,4]\n",
        "l2=[1,3,4,5]\n",
        "print(l1==l2)"
      ],
      "metadata": {
        "colab": {
          "base_uri": "https://localhost:8080/"
        },
        "id": "-QuinywLxtZG",
        "outputId": "a26d2496-5f17-4af6-cfb1-280293b010ab"
      },
      "execution_count": 37,
      "outputs": [
        {
          "output_type": "stream",
          "name": "stdout",
          "text": [
            "False\n"
          ]
        }
      ]
    },
    {
      "cell_type": "code",
      "source": [
        "l1=[1,2,3,4]  #compares element\n",
        "l2=[1,2,3,4]\n",
        "print(l1==l2)"
      ],
      "metadata": {
        "colab": {
          "base_uri": "https://localhost:8080/"
        },
        "id": "IKsJRLKkx9SU",
        "outputId": "4d5cd0fe-1236-47c1-eff3-f5aa689ecf50"
      },
      "execution_count": 38,
      "outputs": [
        {
          "output_type": "stream",
          "name": "stdout",
          "text": [
            "True\n"
          ]
        }
      ]
    },
    {
      "cell_type": "code",
      "source": [
        "l1=[1,2,3,4]   #compares memory location\n",
        "l2=[1,2,3,4]\n",
        "print(l1 is l2)"
      ],
      "metadata": {
        "colab": {
          "base_uri": "https://localhost:8080/"
        },
        "id": "NY0hCEyDyC_h",
        "outputId": "dd09a0d9-1bc5-478b-c993-f8ae35dd2797"
      },
      "execution_count": 41,
      "outputs": [
        {
          "output_type": "stream",
          "name": "stdout",
          "text": [
            "False\n"
          ]
        }
      ]
    },
    {
      "cell_type": "code",
      "source": [
        "l1=[1,2,3,4]   #compares memory location\n",
        "l2=[1,2,3,4]\n",
        "print(l1 is not l2)"
      ],
      "metadata": {
        "colab": {
          "base_uri": "https://localhost:8080/"
        },
        "id": "DGDZ3kbpyIRH",
        "outputId": "8bebf535-89db-4c36-eeaf-943ab6f07d6a"
      },
      "execution_count": 42,
      "outputs": [
        {
          "output_type": "stream",
          "name": "stdout",
          "text": [
            "True\n"
          ]
        }
      ]
    },
    {
      "cell_type": "code",
      "source": [
        "l3=[1,2,3,4,5] #checks whether the element is present or not\n",
        "print(4 in l3)"
      ],
      "metadata": {
        "colab": {
          "base_uri": "https://localhost:8080/"
        },
        "id": "bZy-jM5nyXeJ",
        "outputId": "248df351-ae77-4880-a11d-da66c5bde6bd"
      },
      "execution_count": 43,
      "outputs": [
        {
          "output_type": "stream",
          "name": "stdout",
          "text": [
            "True\n"
          ]
        }
      ]
    },
    {
      "cell_type": "code",
      "source": [
        "l3=[1,2,3,4,5]\n",
        "print(14 in l3)"
      ],
      "metadata": {
        "colab": {
          "base_uri": "https://localhost:8080/"
        },
        "id": "VOQgyXreylq0",
        "outputId": "ac1adcdb-87f5-4272-d100-01d24eb516aa"
      },
      "execution_count": 44,
      "outputs": [
        {
          "output_type": "stream",
          "name": "stdout",
          "text": [
            "False\n"
          ]
        }
      ]
    },
    {
      "cell_type": "code",
      "source": [
        "var1=int(input(\"enter a number:\")) #conditional loops\n",
        "if var1>0:\n",
        "  print(\"positive\")\n",
        "elif var1<0:\n",
        "  print(\"negative\")\n",
        "else:\n",
        "  print(\"zero\")"
      ],
      "metadata": {
        "colab": {
          "base_uri": "https://localhost:8080/"
        },
        "id": "GdQgqUuYyodt",
        "outputId": "069100e3-1ac0-4dc4-d967-f56dacc58fad"
      },
      "execution_count": 49,
      "outputs": [
        {
          "output_type": "stream",
          "name": "stdout",
          "text": [
            "enter a number:-2\n",
            "negative\n"
          ]
        }
      ]
    },
    {
      "cell_type": "code",
      "source": [
        "var1=int(input(\"enter a number:\"))\n",
        "if var1>40:\n",
        "  print(\"greater than 40\")\n",
        "elif var1<0:\n",
        "  print(\"negative\")\n",
        "\n",
        "else:\n",
        "  print(\"zero\")"
      ],
      "metadata": {
        "colab": {
          "base_uri": "https://localhost:8080/"
        },
        "id": "IvM8RQqazdTm",
        "outputId": "b11c5f07-b6ab-4847-f8d4-a3ba5fc8cc81"
      },
      "execution_count": 55,
      "outputs": [
        {
          "output_type": "stream",
          "name": "stdout",
          "text": [
            "enter a number:42\n",
            "greater than 40\n"
          ]
        }
      ]
    },
    {
      "cell_type": "code",
      "source": [
        "var2=int(input(\"enter a number: \"))\n",
        "if var2>0:\n",
        "  print(\"positve\")\n",
        "  if var2%2==0:\n",
        "    print(\"even\")\n",
        "    if var2%5==0:\n",
        "       print(\"multiple of 5\")\n",
        "  else:\n",
        "    print(\"odd\")\n",
        "else:\n",
        "   print(\"negatve\")"
      ],
      "metadata": {
        "colab": {
          "base_uri": "https://localhost:8080/"
        },
        "id": "5oEF1Zi6z3xk",
        "outputId": "568b3191-5395-4abb-8639-da6872c73259"
      },
      "execution_count": 63,
      "outputs": [
        {
          "output_type": "stream",
          "name": "stdout",
          "text": [
            "enter a number: 22\n",
            "positve\n",
            "even\n"
          ]
        }
      ]
    },
    {
      "cell_type": "code",
      "source": [
        "#rockpaperscissor\n",
        "import random\n",
        "user_input=input(\"choose one of rock,paper,scissor\")\n",
        "options=['rock','paper','scissor']\n",
        "system_input=random.choice(options)\n",
        "if user_input==system_input:\n",
        "  print(\"its a draw\")\n",
        "else:\n",
        "  if user_input=='rock':\n",
        "    if system_input=='scissor':\n",
        "      print(\"you won\")\n",
        "    else:\n",
        "      print(\"you loss\")\n",
        "  if user_input=='paper':\n",
        "    if system_input=='rock':\n",
        "      print(\"you won\")\n",
        "    else:\n",
        "      print(\"you loss\")\n",
        "  if user_input=='scissor':\n",
        "    if system_input=='paper':\n",
        "      print(\"you won\")\n",
        "    else:\n",
        "      print(\"you loss\")\n",
        "\n",
        "print(user_input)\n",
        "print(system_input)"
      ],
      "metadata": {
        "colab": {
          "base_uri": "https://localhost:8080/"
        },
        "id": "OpoYViX40_Sr",
        "outputId": "8493ae07-4fa7-4b46-8824-19c063559365"
      },
      "execution_count": 66,
      "outputs": [
        {
          "output_type": "stream",
          "name": "stdout",
          "text": [
            "choose one of rock,paper,scissorrock\n",
            "you loss\n",
            "rock\n",
            "paper\n"
          ]
        }
      ]
    },
    {
      "cell_type": "code",
      "source": [
        "#loops (start,end)\n",
        "for i in range(1,20):\n",
        "  print(i)"
      ],
      "metadata": {
        "colab": {
          "base_uri": "https://localhost:8080/"
        },
        "id": "0hTsD1UQ3GkW",
        "outputId": "3f6a7368-b454-437f-c5bb-9602ed2994e2"
      },
      "execution_count": 69,
      "outputs": [
        {
          "output_type": "stream",
          "name": "stdout",
          "text": [
            "1\n",
            "2\n",
            "3\n",
            "4\n",
            "5\n",
            "6\n",
            "7\n",
            "8\n",
            "9\n",
            "10\n",
            "11\n",
            "12\n",
            "13\n",
            "14\n",
            "15\n",
            "16\n",
            "17\n",
            "18\n",
            "19\n"
          ]
        }
      ]
    },
    {
      "cell_type": "code",
      "source": [
        "#table\n",
        "var2=int(input(\"enter a number\"))\n",
        "for i in range(1,11):\n",
        "  print(var2,\"*\",i,\"=\",var2*i)"
      ],
      "metadata": {
        "colab": {
          "base_uri": "https://localhost:8080/"
        },
        "id": "VZLu70tf4Dhn",
        "outputId": "6d9e3b2a-cc2d-45cc-9d51-0fc9a5c90f5b"
      },
      "execution_count": 70,
      "outputs": [
        {
          "output_type": "stream",
          "name": "stdout",
          "text": [
            "enter a number2\n",
            "2 * 1 = 2\n",
            "2 * 2 = 4\n",
            "2 * 3 = 6\n",
            "2 * 4 = 8\n",
            "2 * 5 = 10\n",
            "2 * 6 = 12\n",
            "2 * 7 = 14\n",
            "2 * 8 = 16\n",
            "2 * 9 = 18\n",
            "2 * 10 = 20\n"
          ]
        }
      ]
    },
    {
      "cell_type": "code",
      "source": [
        "#table\n",
        "var2=int(input(\"enter a number\"))\n",
        "for i in range(1,11):\n",
        "  print(var2,\"*\",i,\"=\",var2*i,\",\",end=' ')"
      ],
      "metadata": {
        "colab": {
          "base_uri": "https://localhost:8080/"
        },
        "id": "Fp9Svkpg4ui6",
        "outputId": "a893ffa4-27b8-4f3e-eeb6-ae0787b585c9"
      },
      "execution_count": 72,
      "outputs": [
        {
          "output_type": "stream",
          "name": "stdout",
          "text": [
            "enter a number2\n",
            "2 * 1 = 2 , 2 * 2 = 4 , 2 * 3 = 6 , 2 * 4 = 8 , 2 * 5 = 10 , 2 * 6 = 12 , 2 * 7 = 14 , 2 * 8 = 16 , 2 * 9 = 18 , 2 * 10 = 20 , "
          ]
        }
      ]
    },
    {
      "cell_type": "code",
      "source": [
        "list1=[1,2,3,4]\n",
        "for i in list1:\n",
        "  print(i)"
      ],
      "metadata": {
        "colab": {
          "base_uri": "https://localhost:8080/"
        },
        "id": "MypJagFj5LE0",
        "outputId": "3ec95248-9afc-43b1-e91b-a65c45adacb6"
      },
      "execution_count": 73,
      "outputs": [
        {
          "output_type": "stream",
          "name": "stdout",
          "text": [
            "1\n",
            "2\n",
            "3\n",
            "4\n"
          ]
        }
      ]
    },
    {
      "cell_type": "code",
      "source": [
        "#travsersing\n",
        "dict1={\"SRH\":99,\"RCB\":16.4,\"MI\":55}\n",
        "for i in dict1:\n",
        "  print(i)"
      ],
      "metadata": {
        "colab": {
          "base_uri": "https://localhost:8080/"
        },
        "id": "nQBb-NnO5wC2",
        "outputId": "3c6a5cac-0449-49c6-e548-f6f295deb6f1"
      },
      "execution_count": 75,
      "outputs": [
        {
          "output_type": "stream",
          "name": "stdout",
          "text": [
            "SRH\n",
            "RCB\n",
            "MI\n"
          ]
        }
      ]
    },
    {
      "cell_type": "code",
      "source": [
        "#traversing\n",
        "dict1={\"SRH\":99,\"RCB\":16.4,\"MI\":55}\n",
        "for key,value in dict1.items():\n",
        "  if value>=60:\n",
        "    print(key,\"is qualified\")\n",
        "  else:\n",
        "    print(key,\"is not qualified\")"
      ],
      "metadata": {
        "colab": {
          "base_uri": "https://localhost:8080/"
        },
        "id": "oh9MNUWy6MMO",
        "outputId": "7e6e5469-8eac-458c-96ec-74d47c0d715c"
      },
      "execution_count": 79,
      "outputs": [
        {
          "output_type": "stream",
          "name": "stdout",
          "text": [
            "SRH is qualified\n",
            "RCB is not qualified\n",
            "MI is not qualified\n"
          ]
        }
      ]
    },
    {
      "cell_type": "code",
      "source": [
        "#while loop not mostly used\n",
        "i=1\n",
        "while i<5:\n",
        "  print(i)\n",
        "  i=i+1"
      ],
      "metadata": {
        "colab": {
          "base_uri": "https://localhost:8080/"
        },
        "id": "j6Tdkm8Y6hxb",
        "outputId": "86ab972b-b9ab-4148-a986-bdceb9562f20"
      },
      "execution_count": 80,
      "outputs": [
        {
          "output_type": "stream",
          "name": "stdout",
          "text": [
            "1\n",
            "2\n",
            "3\n",
            "4\n"
          ]
        }
      ]
    },
    {
      "cell_type": "code",
      "source": [
        "for i in range(0,6):\n",
        "  for j in range(0,i):\n",
        "    print(i,j)"
      ],
      "metadata": {
        "colab": {
          "base_uri": "https://localhost:8080/"
        },
        "id": "BBVx9JTH7HNV",
        "outputId": "1cab8a34-bd98-4163-fc7f-053c22f4c2be"
      },
      "execution_count": 81,
      "outputs": [
        {
          "output_type": "stream",
          "name": "stdout",
          "text": [
            "1 0\n",
            "2 0\n",
            "2 1\n",
            "3 0\n",
            "3 1\n",
            "3 2\n",
            "4 0\n",
            "4 1\n",
            "4 2\n",
            "4 3\n",
            "5 0\n",
            "5 1\n",
            "5 2\n",
            "5 3\n",
            "5 4\n"
          ]
        }
      ]
    },
    {
      "cell_type": "code",
      "source": [
        "for i in range(0,5):\n",
        "  for j in range(0,i+1):\n",
        "    print(\"*\",end=' ')\n",
        "  print()\n",
        ""
      ],
      "metadata": {
        "colab": {
          "base_uri": "https://localhost:8080/"
        },
        "id": "PmmPY-QN710r",
        "outputId": "23778bc6-3b2d-4763-a46b-84ce1273d0dc"
      },
      "execution_count": 85,
      "outputs": [
        {
          "output_type": "stream",
          "name": "stdout",
          "text": [
            "* \n",
            "* * \n",
            "* * * \n",
            "* * * * \n",
            "* * * * * \n"
          ]
        }
      ]
    },
    {
      "cell_type": "code",
      "source": [
        "var2=int(input(\"enter num: \"))\n",
        "for i in range(0,var2):\n",
        "  for j in range(0,i+1):\n",
        "    print(\"*\",end=' ')\n",
        "  print()\n",
        ""
      ],
      "metadata": {
        "colab": {
          "base_uri": "https://localhost:8080/"
        },
        "id": "fDjnc2fb8MC7",
        "outputId": "58751206-0acb-4b7a-ebc3-c715d3bb5214"
      },
      "execution_count": 86,
      "outputs": [
        {
          "output_type": "stream",
          "name": "stdout",
          "text": [
            "enter num: 5\n",
            "* \n",
            "* * \n",
            "* * * \n",
            "* * * * \n",
            "* * * * * \n"
          ]
        }
      ]
    },
    {
      "cell_type": "code",
      "source": [
        "#guess the num\n",
        "ran_num=random.randint(1,10)\n",
        "while \"True\":\n",
        "  user_entry=int(input(\"enter a number: \"))\n",
        "  if user_entry == ran_num:\n",
        "    print(\"correct\",cnt,\"attempts\")\n",
        "    break\n",
        "  elif user_entry <ran_num:\n",
        "    print(\"greater\")\n",
        "  else:\n",
        "    print(\"lesser\")\n",
        "print(\"game over\")"
      ],
      "metadata": {
        "colab": {
          "base_uri": "https://localhost:8080/"
        },
        "id": "dtqPxPZp8iq8",
        "outputId": "253ec7a4-b821-49dc-a59f-2a84b0a1e6b4"
      },
      "execution_count": 94,
      "outputs": [
        {
          "output_type": "stream",
          "name": "stdout",
          "text": [
            "enter a number: 5\n",
            "lesser\n",
            "enter a number: 3\n",
            "correct 0 attempts\n",
            "game over\n"
          ]
        }
      ]
    },
    {
      "cell_type": "code",
      "source": [
        "# user defined function\n",
        "list1=[1,2,3,4,2,3,3]\n",
        "def count():\n",
        "  cnt=0\n",
        "  for i in list1:\n",
        "    if i==2:\n",
        "      cnt=cnt+1\n",
        "  return cnt\n",
        "print(count())\n",
        "list1.append(2)\n",
        "list1.append(2)\n",
        "print(count())"
      ],
      "metadata": {
        "colab": {
          "base_uri": "https://localhost:8080/"
        },
        "id": "l9vA5nrF9qEy",
        "outputId": "e5650e0f-6158-48a8-a5e5-5b23b9079517"
      },
      "execution_count": 104,
      "outputs": [
        {
          "output_type": "stream",
          "name": "stdout",
          "text": [
            "2\n",
            "4\n"
          ]
        }
      ]
    },
    {
      "cell_type": "code",
      "source": [
        "#predefined\n",
        "randlist=[1,2,3,4,5]\n",
        "print(max(randlist))"
      ],
      "metadata": {
        "colab": {
          "base_uri": "https://localhost:8080/"
        },
        "id": "S71WvzQqEF9Q",
        "outputId": "d5d31eec-a295-4f8f-df69-711c0b5ebd95"
      },
      "execution_count": 105,
      "outputs": [
        {
          "output_type": "stream",
          "name": "stdout",
          "text": [
            "5\n"
          ]
        }
      ]
    },
    {
      "cell_type": "code",
      "source": [],
      "metadata": {
        "id": "3doBP2yqE_Vc"
      },
      "execution_count": null,
      "outputs": []
    }
  ]
}