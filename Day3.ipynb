{
  "nbformat": 4,
  "nbformat_minor": 0,
  "metadata": {
    "colab": {
      "provenance": []
    },
    "kernelspec": {
      "name": "python3",
      "display_name": "Python 3"
    },
    "language_info": {
      "name": "python"
    }
  },
  "cells": [
    {
      "cell_type": "code",
      "execution_count": 2,
      "metadata": {
        "colab": {
          "base_uri": "https://localhost:8080/"
        },
        "id": "KzBMQPoFZRpv",
        "outputId": "96c4e426-911f-4110-b635-3c1c2bf0c64e"
      },
      "outputs": [
        {
          "output_type": "stream",
          "name": "stdout",
          "text": [
            "[1 2 3 4]\n",
            "<class 'numpy.ndarray'>\n"
          ]
        }
      ],
      "source": [
        "import numpy as np\n",
        "l1=[1,2,3,4]\n",
        "np1=np.array(l1)\n",
        "print(np1)\n",
        "print(type(np1))\n"
      ]
    },
    {
      "cell_type": "code",
      "source": [
        "np2=np.array([[1,2,3], [4,5,6], [7,8,9]])\n",
        "print(np2)\n",
        "\n"
      ],
      "metadata": {
        "colab": {
          "base_uri": "https://localhost:8080/"
        },
        "id": "8-pLNZ2uaLTt",
        "outputId": "0a06ea4c-13b1-4d14-c167-e6629322dd08"
      },
      "execution_count": 4,
      "outputs": [
        {
          "output_type": "stream",
          "name": "stdout",
          "text": [
            "[[1 2 3]\n",
            " [4 5 6]\n",
            " [7 8 9]]\n"
          ]
        }
      ]
    },
    {
      "cell_type": "code",
      "source": [
        "print(np1[2])"
      ],
      "metadata": {
        "colab": {
          "base_uri": "https://localhost:8080/"
        },
        "id": "V8GqbDE9aj3N",
        "outputId": "8b7e3449-5e5d-4261-b8c4-be0a38fc0932"
      },
      "execution_count": 5,
      "outputs": [
        {
          "output_type": "stream",
          "name": "stdout",
          "text": [
            "3\n"
          ]
        }
      ]
    },
    {
      "cell_type": "code",
      "source": [
        "print(np1)"
      ],
      "metadata": {
        "colab": {
          "base_uri": "https://localhost:8080/"
        },
        "id": "rtJil_ujawb0",
        "outputId": "a4de23e0-0126-4121-c69d-56f1678bdc8c"
      },
      "execution_count": 6,
      "outputs": [
        {
          "output_type": "stream",
          "name": "stdout",
          "text": [
            "[1 2 3 4]\n"
          ]
        }
      ]
    },
    {
      "cell_type": "code",
      "source": [
        "print(np2[1,2])\n",
        "np2[1,2]=16"
      ],
      "metadata": {
        "colab": {
          "base_uri": "https://localhost:8080/"
        },
        "id": "DPbb32gwa2ED",
        "outputId": "02f51bbc-0248-4c1e-9071-61d094f354a8"
      },
      "execution_count": 7,
      "outputs": [
        {
          "output_type": "stream",
          "name": "stdout",
          "text": [
            "6\n"
          ]
        }
      ]
    },
    {
      "cell_type": "code",
      "source": [
        "print(np2)"
      ],
      "metadata": {
        "colab": {
          "base_uri": "https://localhost:8080/"
        },
        "id": "-6P5TRFia9vO",
        "outputId": "2b80854a-fce5-4e60-d8eb-4ebe00a0c1df"
      },
      "execution_count": 8,
      "outputs": [
        {
          "output_type": "stream",
          "name": "stdout",
          "text": [
            "[[ 1  2  3]\n",
            " [ 4  5 16]\n",
            " [ 7  8  9]]\n"
          ]
        }
      ]
    },
    {
      "cell_type": "code",
      "source": [
        "print(len(np1))\n",
        "print(len(np2))"
      ],
      "metadata": {
        "colab": {
          "base_uri": "https://localhost:8080/"
        },
        "id": "vaNIyVcJa_6K",
        "outputId": "8d06abfb-5722-4f16-fec4-8609069c95a0"
      },
      "execution_count": 9,
      "outputs": [
        {
          "output_type": "stream",
          "name": "stdout",
          "text": [
            "4\n",
            "3\n"
          ]
        }
      ]
    },
    {
      "cell_type": "code",
      "source": [
        "random1=np.ones((3,3),dtype='int')"
      ],
      "metadata": {
        "id": "xE1IJn77bGlm"
      },
      "execution_count": 10,
      "outputs": []
    },
    {
      "cell_type": "code",
      "source": [
        "print(random1)"
      ],
      "metadata": {
        "colab": {
          "base_uri": "https://localhost:8080/"
        },
        "id": "QQr7AYd5bNfg",
        "outputId": "d50d2a67-cf37-4108-a492-6f5fbfe70c34"
      },
      "execution_count": 11,
      "outputs": [
        {
          "output_type": "stream",
          "name": "stdout",
          "text": [
            "[[1 1 1]\n",
            " [1 1 1]\n",
            " [1 1 1]]\n"
          ]
        }
      ]
    },
    {
      "cell_type": "code",
      "source": [
        "random2=np.full((3,3),\" \")\n",
        "print(random2)"
      ],
      "metadata": {
        "colab": {
          "base_uri": "https://localhost:8080/"
        },
        "id": "1kR8jggSbPAC",
        "outputId": "ebd6269c-06c6-4137-8589-396efc10bc6b"
      },
      "execution_count": 13,
      "outputs": [
        {
          "output_type": "stream",
          "name": "stdout",
          "text": [
            "[[' ' ' ' ' ']\n",
            " [' ' ' ' ' ']\n",
            " [' ' ' ' ' ']]\n"
          ]
        }
      ]
    },
    {
      "cell_type": "code",
      "source": [
        "def check_win(board,user_value):\n",
        "  for i in range(0,3):\n",
        "    if(np.all(board[i]==user_value) or np.all(board[:i]==user_value)):\n",
        "      return True\n",
        "  if(np.all(np.diag(board)==user_value)):\n",
        "    return True\n",
        "  return False\n",
        "def game_starts():\n",
        "  board=np.full((3,3),\" \")\n",
        "  player1=input(\"Enter you name player 1\")\n",
        "  player2=input(\"Enter you name player 2\")\n",
        "  check=player1\n",
        "  while True:\n",
        "    if check==player1:\n",
        "      print(player1,\"It's your chocie\")\n",
        "    else:\n",
        "      print(player2,\"its your choice\")\n",
        "    print(board)\n",
        "    row=int(input(\"enter row\"))\n",
        "    col=int(input(\"enter col\"))\n",
        "    if board[row][col]!=\" \":\n",
        "      print(\"it is already occupied\")\n",
        "      continue\n",
        "    if check==player1:\n",
        "      board[row][col]='x'\n",
        "      if(check_win(board,'x')):\n",
        "        print(board)\n",
        "        print(player1,\"won\")\n",
        "        break\n",
        "    else:\n",
        "      board[row][col]='o'\n",
        "      if(check_win(board,'o')):\n",
        "        print(board)\n",
        "        print(player1,\"won\")\n",
        "        break\n",
        "    if check==palyer1:\n",
        "      check=player2\n",
        "    else:\n",
        "      check=player1\n",
        "print(\"tic tac toe\")\n",
        "play1=input(\"are you ready yes or no\")\n",
        "if(play1==\"yes\"):\n",
        "  game_starts()\n",
        "else:\n",
        "  print(\"you choose not to play\")\n",
        "\n",
        "\n",
        "\n",
        "\n",
        "\n"
      ],
      "metadata": {
        "colab": {
          "base_uri": "https://localhost:8080/"
        },
        "id": "mpy-9lONbT5F",
        "outputId": "4f393884-10b7-43b3-c52c-2795cb54aca4"
      },
      "execution_count": 40,
      "outputs": [
        {
          "output_type": "stream",
          "name": "stdout",
          "text": [
            "tic tac toe\n",
            "are you ready yes or noyes\n",
            "Enter you name player 1navya\n",
            "Enter you name player 2rithin\n",
            "navya It's your chocie\n",
            "[[' ' ' ' ' ']\n",
            " [' ' ' ' ' ']\n",
            " [' ' ' ' ' ']]\n",
            "enter row1\n",
            "enter col1\n",
            "[[' ' ' ' ' ']\n",
            " [' ' 'x' ' ']\n",
            " [' ' ' ' ' ']]\n",
            "navya won\n"
          ]
        }
      ]
    },
    {
      "cell_type": "code",
      "source": [
        "idmat=np.identity(3)\n",
        "print(idmat)"
      ],
      "metadata": {
        "id": "tpxBPURohri4"
      },
      "execution_count": null,
      "outputs": []
    },
    {
      "cell_type": "code",
      "source": [
        "num1=float(input(\"enter number\"))\n",
        "num2=float(input(\"enter number\"))\n",
        "np.add(num1,num2)"
      ],
      "metadata": {
        "colab": {
          "base_uri": "https://localhost:8080/"
        },
        "id": "6AttbHw7kXMV",
        "outputId": "37bcad6a-7621-460b-8310-a8e1317e5dad"
      },
      "execution_count": 41,
      "outputs": [
        {
          "name": "stdout",
          "output_type": "stream",
          "text": [
            "enter number10\n",
            "enter number20\n"
          ]
        },
        {
          "output_type": "execute_result",
          "data": {
            "text/plain": [
              "30.0"
            ]
          },
          "metadata": {},
          "execution_count": 41
        }
      ]
    },
    {
      "cell_type": "code",
      "source": [
        "np1=np.array([1,2,3,4])\n",
        "np.median(np1)"
      ],
      "metadata": {
        "colab": {
          "base_uri": "https://localhost:8080/"
        },
        "id": "-_3oJA41kwVh",
        "outputId": "cba85f41-95ab-495c-940e-b3f7d7a8b24d"
      },
      "execution_count": 42,
      "outputs": [
        {
          "output_type": "execute_result",
          "data": {
            "text/plain": [
              "2.5"
            ]
          },
          "metadata": {},
          "execution_count": 42
        }
      ]
    },
    {
      "cell_type": "code",
      "source": [
        "np2=np1\n",
        "np3=np1.copy()"
      ],
      "metadata": {
        "id": "oXj-cOWDk6r2"
      },
      "execution_count": 43,
      "outputs": []
    },
    {
      "cell_type": "code",
      "source": [
        "np3[2]=10\n",
        "print(np3)\n",
        "print(np1)"
      ],
      "metadata": {
        "colab": {
          "base_uri": "https://localhost:8080/"
        },
        "id": "_I87sUbgk-I3",
        "outputId": "beb2aec9-c266-4eed-a023-29506e399f0e"
      },
      "execution_count": 44,
      "outputs": [
        {
          "output_type": "stream",
          "name": "stdout",
          "text": [
            "[ 1  2 10  4]\n",
            "[1 2 3 4]\n"
          ]
        }
      ]
    },
    {
      "cell_type": "code",
      "source": [
        "import time\n",
        "import numpy as np\n",
        "l1=[i for i in range(10**6)]\n",
        "np3=np.array(l1)\n",
        "time_list=time.time()\n",
        "sum_total=sum(l1)\n",
        "endtime_list=time.time()\n",
        "sum2=0\n",
        "time_numpy=time.time()\n",
        "sum2=np.sum(np3)\n",
        "endtime_numpy=time.time()\n",
        "print(\"list\",endtime_list-time_list)\n",
        "print(\"numpy\",endtime_numpy-time_numpy)"
      ],
      "metadata": {
        "colab": {
          "base_uri": "https://localhost:8080/"
        },
        "id": "gJ2MNAUulC5y",
        "outputId": "f0ca21e6-26eb-4247-9364-a7c072cc59c2"
      },
      "execution_count": 45,
      "outputs": [
        {
          "output_type": "stream",
          "name": "stdout",
          "text": [
            "list 0.0068988800048828125\n",
            "numpy 0.0013403892517089844\n"
          ]
        }
      ]
    },
    {
      "cell_type": "code",
      "source": [],
      "metadata": {
        "id": "Fd03v4e6l2Tn"
      },
      "execution_count": null,
      "outputs": []
    }
  ]
}