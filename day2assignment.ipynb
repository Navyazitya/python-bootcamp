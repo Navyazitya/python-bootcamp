{
  "cells": [
    {
      "cell_type": "code",
      "execution_count": null,
      "metadata": {
        "colab": {
          "base_uri": "https://localhost:8080/"
        },
        "id": "LEWmqjx7EgHI",
        "outputId": "e752a055-d3aa-44b6-e04c-b34f7df70ca9"
      },
      "outputs": [
        {
          "name": "stdout",
          "output_type": "stream",
          "text": [
            "Guess the word by entering single letter: \n",
            "\n",
            "Word: ___\n",
            "Attempts left: 6\n",
            "Enter a letter: c\n",
            "Incorrect\n",
            "\n",
            "Word: ___\n",
            "Attempts left: 5\n",
            "Enter a letter: a\n",
            "Correct\n",
            "\n",
            "Word: _a_\n",
            "Attempts left: 5\n",
            "Enter a letter: h\n",
            "Correct\n",
            "\n",
            "Word: ha_\n",
            "Attempts left: 5\n",
            "Enter a letter: t\n",
            "Correct\n",
            "You guessed the word: hat\n"
          ]
        }
      ],
      "source": [
        "import random\n",
        "words=['app','ball','cat','dog','egg','fish','gun','hat','ice','jug']\n",
        "system_input=random.choice(words)\n",
        "\n",
        "letters = []\n",
        "attempts = 6\n",
        "\n",
        "print(\"Guess the word by entering single letter: \")\n",
        "\n",
        "while attempts > 0:\n",
        "    result = ''\n",
        "    for letter in system_input:\n",
        "        if letter in letters:\n",
        "            result = result+letter\n",
        "        else:\n",
        "            result = result + '_'\n",
        "    print(\"\\nWord:\", result)\n",
        "    print(\"Attempts left:\", attempts)\n",
        "\n",
        "\n",
        "    user_input = input(\"Enter a letter: \")\n",
        "\n",
        "    if user_input in system_input:\n",
        "        print(\"Correct\")\n",
        "        letters.append(user_input)\n",
        "        if set(letters) == set(system_input):\n",
        "            print(\"You guessed the word:\", system_input)\n",
        "            break\n",
        "    else:\n",
        "        print(\"Incorrect\")\n",
        "        attempts -= 1\n",
        "\n",
        "if attempts == 0:\n",
        "    print(\"There are no attempts left. The word was:\", system_input)\n"
      ]
    },
    {
      "cell_type": "code",
      "execution_count": 7,
      "metadata": {
        "colab": {
          "base_uri": "https://localhost:8080/"
        },
        "id": "f1ZIUPWAJ2Bh",
        "outputId": "7690cb53-8224-4cfe-a226-16b909d71947"
      },
      "outputs": [
        {
          "name": "stdout",
          "output_type": "stream",
          "text": [
            "Temperature Converter\n",
            "1. Celsius to Fahrenheit\n",
            "2. Fahrenheit to Celsius\n",
            "Enter your choice 1 or 2: 2\n",
            "Enter temperature in Fahrenheit: 25\n",
            "Temperature in Celsius: -3.888888888888889\n"
          ]
        }
      ],
      "source": [
        "print(\"Temperature Converter\")\n",
        "print(\"1. Celsius to Fahrenheit\")\n",
        "print(\"2. Fahrenheit to Celsius\")\n",
        "choice = int(input(\"Enter your choice 1 or 2: \"))\n",
        "\n",
        "if choice == 1:\n",
        "    celsius = float(input(\"Enter temperature in Celsius: \"))\n",
        "    fahrenheit = (celsius * 9/5) + 32\n",
        "    print(\"Temperature in Fahrenheit:\", fahrenheit)\n",
        "elif choice == 2:\n",
        "    fahrenheit = float(input(\"Enter temperature in Fahrenheit: \"))\n",
        "    celsius = (fahrenheit - 32) * 5/9\n",
        "    print(\"Temperature in Celsius:\", celsius)\n",
        "else:\n",
        "    print(\"Invalid choice\")\n"
      ]
    },
    {
      "cell_type": "code",
      "execution_count": 11,
      "metadata": {
        "colab": {
          "base_uri": "https://localhost:8080/"
        },
        "id": "MsdMX2CaVD8X",
        "outputId": "111ff6c3-9858-495d-9453-305131a35763"
      },
      "outputs": [
        {
          "name": "stdout",
          "output_type": "stream",
          "text": [
            "Quiz!\n",
            "Select either a,b,c or d\n",
            "Who developed python programming language?\n",
            "A. Wick van Rossum\n",
            "B. Rasmus Lerdorf\n",
            "C. Guido van Rossum\n",
            "D. Niene Stom\n",
            "Your answer: c\n",
            "Correct!\n",
            "\n",
            "Which of the following is used to define a block of code in Python language?\n",
            "A. Indentation\n",
            "B. key\n",
            "C. Brackets\n",
            "D. All\n",
            "Your answer: a\n",
            "Correct!\n",
            "\n",
            "Which keyword is used for function in Python language?\n",
            "A. Func\n",
            "B. Function\n",
            "C. Define\n",
            "D. Def\n",
            "Your answer: d\n",
            "Correct!\n",
            "\n",
            "Quiz complete!\n",
            "Your score: 3 / 3\n"
          ]
        }
      ],
      "source": [
        "# Sample quiz questions\n",
        "questions = [\n",
        "    {\n",
        "        \"question\": \"Who developed python programming language?\",\n",
        "        \"options\": [\"A. Wick van Rossum\", \"B. Rasmus Lerdorf\", \"C. Guido van Rossum\", \"D. Niene Stom\"],\n",
        "        \"answer\": \"c\"\n",
        "    },\n",
        "    {\n",
        "        \"question\": \"Which of the following is used to define a block of code in Python language?\",\n",
        "        \"options\": [\"A. Indentation\", \"B. key\", \"C. Brackets\", \"D. All\"],\n",
        "        \"answer\": \"a\"\n",
        "    },\n",
        "    {\n",
        "        \"question\": \"Which keyword is used for function in Python language?\",\n",
        "        \"options\": [\"A. Func\", \"B. Function\", \"C. Define\", \"D. Def\"],\n",
        "        \"answer\": \"d\"\n",
        "    }\n",
        "]\n",
        "\n",
        "score = 0\n",
        "\n",
        "print(\"Quiz!\")\n",
        "print(\"Select either a,b,c or d\")\n",
        "\n",
        "for question in questions:\n",
        "    print(question[\"question\"])\n",
        "    for option in question[\"options\"]:\n",
        "        print(option)\n",
        "\n",
        "    user_answer = input(\"Your answer: \")\n",
        "    if user_answer == question[\"answer\"]:\n",
        "        print(\"Correct!\")\n",
        "        score += 1\n",
        "    else:\n",
        "        print(\"Incorrect! The correct answer is:\", question[\"answer\"])\n",
        "    print()\n",
        "\n",
        "print(\"Quiz complete!\")\n",
        "print(\"Your score:\", score, \"/\", len(questions))\n"
      ]
    },
    {
      "cell_type": "code",
      "execution_count": null,
      "metadata": {
        "id": "JBsJqewvXx4i"
      },
      "outputs": [],
      "source": []
    }
  ],
  "metadata": {
    "colab": {
      "provenance": []
    },
    "kernelspec": {
      "display_name": "Python 3",
      "name": "python3"
    },
    "language_info": {
      "name": "python",
      "version": "3.12.2"
    }
  },
  "nbformat": 4,
  "nbformat_minor": 0
}
